{
 "cells": [
  {
   "attachments": {},
   "cell_type": "markdown",
   "metadata": {},
   "source": [
    "Element Size Transition Function by Chang-Joon Lee\n",
    "\n",
    "Please see the attached documentation for how the function works."
   ]
  },
  {
   "cell_type": "code",
   "execution_count": 5,
   "metadata": {},
   "outputs": [],
   "source": [
    "## Step 1 - Importing necessary libraries\n",
    "\n",
    "import numpy as np\n",
    "import math\n",
    "from operator import add"
   ]
  },
  {
   "cell_type": "code",
   "execution_count": 6,
   "metadata": {},
   "outputs": [],
   "source": [
    "## Function definition\n",
    "\n",
    "def sizeFunction(S1, S2, L):\n",
    "    ## Step 2 - Initialise Values\n",
    "    elementList = [] # Create a new empty list for elements to fill the gap \n",
    "    \n",
    "    numElements = int(2*L / (S1 + S2)) # Estimate the number of elements needed to fill the gap (needs to be an integer)\n",
    "    if numElements == 0: numElements = 1 # Cannot have 0 elements, so by default you need at least one element to fill the gap\n",
    "\n",
    "    rate = (S2 - S1) / numElements # Estimate the growth rate of how the element size is going to grow\n",
    "    \n",
    "    maxLimit = max(S1, S2) # Determine the maximum limit for the elements\n",
    "\n",
    "    ## Step 3 - Calculate Initial Sizes of the Filler Elements\n",
    "    ## Special Case when only one element is needed to fill the gap:\n",
    "    if numElements == 1:\n",
    "        elementList.append(L) ## There is only one element and its size cannot be larger than the gap length, so has to equal L\n",
    "        totalLength = L\n",
    "    \n",
    "    ## For any other cases that require more than one element to fill the gap:\n",
    "    else:    \n",
    "        for i in range(numElements):\n",
    "            elementList.append(S1 + (i+1) * rate) ## This is the initial estimate of element sizes, assuming arithematic series and initial estimated growth rate\n",
    "                \n",
    "    ## Step 4 - Check for Errors\n",
    "        totalLength = sum(elementList) ## This value is likely to exceed L    \n",
    "        count = sum(1 for x in elementList if x >= maxLimit) ## Count the number of elements with a sizer larger than the maximum limit. The size of these elements will need to be reduced to the maximum limit\n",
    "\n",
    "    ## Step 5 - Refine the Element Sizes\n",
    "        while abs(totalLength - L) > 0.0001 or count > 0 and rate != 0: ## Triggered when the totalLength sum of element sizes is not equal to L, or if there is an element larger than the maximum limit\n",
    "            remainder = L - totalLength\n",
    "            remainder = (remainder / (numElements - count)) ## The remainder needs to be re-distributed between those elements that are less than the maximum size limit\n",
    "\n",
    "            elementList = [x + remainder if x < maxLimit else maxLimit for x in elementList] ## Re-distribute the remainder - if the element size is larger than Smax, then change it to Smax\n",
    "            totalLength = sum(elementList)\n",
    "            count = sum(1 for x in elementList if x > maxLimit) ## Check that there is no element that exceeds the size limit, otherwise continue the while loop\n",
    " \n",
    "    return \"The list of new element sizes: \", elementList, \"The number of elements required: \", numElements, \"totalLength sum of new elements: \", totalLength"
   ]
  },
  {
   "cell_type": "code",
   "execution_count": 9,
   "metadata": {},
   "outputs": [
    {
     "data": {
      "text/plain": [
       "('The list of new element sizes: ',\n",
       " [3.5, 6.5, 10],\n",
       " 'The number of elements required: ',\n",
       " 3,\n",
       " 'totalLength sum of new elements: ',\n",
       " 20.0)"
      ]
     },
     "execution_count": 9,
     "metadata": {},
     "output_type": "execute_result"
    }
   ],
   "source": [
    "## Testing\n",
    "# TC01\n",
    "#sizeFunction(1,1,10)\n",
    "\n",
    "# TC02\n",
    "#sizeFunction(1,5,3)\n",
    "\n",
    "# TC03\n",
    "#sizeFunction(1,3,0.5)\n",
    "\n",
    "# TC04\n",
    "#sizeFunction(1,2,10)\n",
    "\n",
    "# TC05\n",
    "#sizeFunction(1,2,30)\n",
    "\n",
    "# TC06\n",
    "# sizeFunction(2,1,10)\n",
    "\n",
    "# TC07\n",
    "sizeFunction(1,10,20)\n"
   ]
  }
 ],
 "metadata": {
  "kernelspec": {
   "display_name": "Python 3",
   "language": "python",
   "name": "python3"
  },
  "language_info": {
   "codemirror_mode": {
    "name": "ipython",
    "version": 3
   },
   "file_extension": ".py",
   "mimetype": "text/x-python",
   "name": "python",
   "nbconvert_exporter": "python",
   "pygments_lexer": "ipython3",
   "version": "3.10.8"
  },
  "orig_nbformat": 4,
  "vscode": {
   "interpreter": {
    "hash": "b0fa6594d8f4cbf19f97940f81e996739fb7646882a419484c72d19e05852a7e"
   }
  }
 },
 "nbformat": 4,
 "nbformat_minor": 2
}
